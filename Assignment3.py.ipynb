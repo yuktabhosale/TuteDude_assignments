{
 "cells": [
  {
   "cell_type": "code",
   "execution_count": null,
   "id": "8df9228d",
   "metadata": {},
   "outputs": [],
   "source": [
    "Task 1: Calculate Factorial Using a Function "
   ]
  },
  {
   "cell_type": "code",
   "execution_count": null,
   "id": "82e99ab4",
   "metadata": {},
   "outputs": [],
   "source": [
    "Problem Statement: Write a Python program that:\n",
    "1.   Defines a function named factorial that takes a number as an argument and calculates its factorial using a loop or recursion.\n",
    "2.   Returns the calculated factorial.\n",
    "3.   Calls the function with a sample number and prints the output."
   ]
  },
  {
   "cell_type": "code",
   "execution_count": 2,
   "id": "4c53f8bf",
   "metadata": {},
   "outputs": [
    {
     "name": "stdout",
     "output_type": "stream",
     "text": [
      "Enter a number: 5\n",
      "The factorial of 5 is 120\n"
     ]
    }
   ],
   "source": [
    "def factorial(n):\n",
    "    fact = 1\n",
    "    for i in range (1, n+1):\n",
    "        fact = fact * i\n",
    "    return fact\n",
    "\n",
    "num = int(input(\"Enter a number: \"))\n",
    "print(\"The factorial of\", num, \"is\", factorial(num))"
   ]
  },
  {
   "cell_type": "code",
   "execution_count": null,
   "id": "ce54959b",
   "metadata": {},
   "outputs": [],
   "source": []
  },
  {
   "cell_type": "code",
   "execution_count": null,
   "id": "3471af78",
   "metadata": {},
   "outputs": [],
   "source": [
    "Task 2: Using the Math Module for Calculations"
   ]
  },
  {
   "cell_type": "code",
   "execution_count": null,
   "id": "74ef58d9",
   "metadata": {},
   "outputs": [],
   "source": [
    "Problem Statement: Write a Python program that:\n",
    "1.   Asks the user for a number as input.\n",
    "2.   Uses the math module to calculate the:\n",
    "o   Square root of the number\n",
    "o   Natural logarithm (log base e) of the number\n",
    "o   Sine of the number (in radians)\n",
    "3.   Displays the calculated results.\n"
   ]
  },
  {
   "cell_type": "code",
   "execution_count": 3,
   "id": "55cf05d3",
   "metadata": {},
   "outputs": [
    {
     "name": "stdout",
     "output_type": "stream",
     "text": [
      "Enter a number: 25\n",
      "\n",
      "Results for the number: 25.0\n",
      "Square root: 5.0\n",
      "Natural logarithm (log base e): 3.2188758248682006\n",
      "Sine of the number (in radian): -0.13235175009777303\n"
     ]
    }
   ],
   "source": [
    "import math\n",
    "\n",
    "num = float(input(\"Enter a number: \"))\n",
    "\n",
    "square_root = math.sqrt(num)\n",
    "natural_log = math.log(num)\n",
    "sine_value = math.sin(num)\n",
    "\n",
    "print(f\"\\nResults for the number: {num}\")\n",
    "print(f\"Square root: {square_root}\")\n",
    "print(f\"Natural logarithm (log base e): {natural_log}\")\n",
    "print(f\"Sine of the number (in radian): {sine_value}\")"
   ]
  },
  {
   "cell_type": "code",
   "execution_count": null,
   "id": "15261ad8",
   "metadata": {},
   "outputs": [],
   "source": []
  }
 ],
 "metadata": {
  "kernelspec": {
   "display_name": "Python 3 (ipykernel)",
   "language": "python",
   "name": "python3"
  },
  "language_info": {
   "codemirror_mode": {
    "name": "ipython",
    "version": 3
   },
   "file_extension": ".py",
   "mimetype": "text/x-python",
   "name": "python",
   "nbconvert_exporter": "python",
   "pygments_lexer": "ipython3",
   "version": "3.11.3"
  }
 },
 "nbformat": 4,
 "nbformat_minor": 5
}
