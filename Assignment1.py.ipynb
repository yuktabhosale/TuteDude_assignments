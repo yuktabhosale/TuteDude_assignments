{
 "cells": [
  {
   "cell_type": "code",
   "execution_count": null,
   "id": "8b3ff9f3",
   "metadata": {},
   "outputs": [],
   "source": [
    "Task 1: Perform Basic Mathematical Operations\n",
    "# Problem Statement: Write a Python program that does the following:\n",
    "# 1.  Takes two numbers as input from the user.\n",
    "# 2.  Performs the basic mathematical operations on these two numbers:\n",
    "# o\tAddition\n",
    "# o\tSubtraction\n",
    "# o\tMultiplication\n",
    "# o\tDivision\n",
    "# 3.  Displays the results of each operation on the screen.\n"
   ]
  },
  {
   "cell_type": "code",
   "execution_count": 1,
   "id": "6f8775a7",
   "metadata": {},
   "outputs": [
    {
     "name": "stdout",
     "output_type": "stream",
     "text": [
      "Enter the first number: 44\n",
      "Enter the second number: 64\n",
      "Addition:  108\n",
      "Substraction:  -20\n",
      "Multiplication:  2816\n",
      "Dividation:  0.6875\n"
     ]
    }
   ],
   "source": [
    "num1 = int(input(\"Enter the first number: \"))\n",
    "num2 = int(input(\"Enter the second number: \"))\n",
    "\n",
    "add = num1 + num2\n",
    "sub = num1 - num2\n",
    "mul = num1 * num2\n",
    "div = num1 / num2\n",
    "\n",
    "print(\"Addition: \", add)\n",
    "print(\"Substraction: \", sub)\n",
    "print(\"Multiplication: \", mul)\n",
    "print(\"Dividation: \", div)\n"
   ]
  },
  {
   "cell_type": "code",
   "execution_count": null,
   "id": "e27cd41c",
   "metadata": {},
   "outputs": [],
   "source": []
  },
  {
   "cell_type": "code",
   "execution_count": null,
   "id": "a48c2023",
   "metadata": {},
   "outputs": [],
   "source": [
    "Task 2: Create a Personalized Greeting\n",
    "# Problem Statement: Write a Python program that:\n",
    "# 1.  Takes a user's first name and last name as input.\n",
    "# 2.  Concatenates the first name and last name into a full name.\n",
    "# 3.  Prints a personalized greeting message using the full name.\n"
   ]
  },
  {
   "cell_type": "code",
   "execution_count": 2,
   "id": "30e8b8b3",
   "metadata": {},
   "outputs": [
    {
     "name": "stdout",
     "output_type": "stream",
     "text": [
      "Enter your first name: Abhimanyu\n",
      "Enter your last name: Kulkarni\n",
      "Hello, Abhimanyu Kulkarni! Welcome to the python program.\n"
     ]
    }
   ],
   "source": [
    "first_name = input(\"Enter your first name: \")\n",
    "last_name = input(\"Enter your last name: \")\n",
    "\n",
    "print(\"Hello, \" + first_name + \" \" + last_name + \"! Welcome to the python program.\")"
   ]
  },
  {
   "cell_type": "code",
   "execution_count": null,
   "id": "68d54c00",
   "metadata": {},
   "outputs": [],
   "source": []
  },
  {
   "cell_type": "code",
   "execution_count": 3,
   "id": "5f02d918",
   "metadata": {},
   "outputs": [
    {
     "name": "stdout",
     "output_type": "stream",
     "text": [
      "Enter your first name: Abhimanyu\n",
      "Enter your last name: Kulkarni\n",
      "Hello, Abhimanyu Kulkarni! Welcome to the python program.\n"
     ]
    }
   ],
   "source": [
    "first_name = input(\"Enter your first name: \")\n",
    "last_name = input(\"Enter your last name: \")\n",
    "\n",
    "print(f\"Hello, {first_name} {last_name}!\", \"Welcome to the python program.\")"
   ]
  },
  {
   "cell_type": "code",
   "execution_count": null,
   "id": "8a18dda1",
   "metadata": {},
   "outputs": [],
   "source": []
  }
 ],
 "metadata": {
  "kernelspec": {
   "display_name": "Python 3 (ipykernel)",
   "language": "python",
   "name": "python3"
  },
  "language_info": {
   "codemirror_mode": {
    "name": "ipython",
    "version": 3
   },
   "file_extension": ".py",
   "mimetype": "text/x-python",
   "name": "python",
   "nbconvert_exporter": "python",
   "pygments_lexer": "ipython3",
   "version": "3.11.3"
  }
 },
 "nbformat": 4,
 "nbformat_minor": 5
}
