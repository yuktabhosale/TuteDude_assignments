{
 "cells": [
  {
   "cell_type": "code",
   "execution_count": null,
   "id": "abf4809c",
   "metadata": {},
   "outputs": [],
   "source": [
    "Task 1: Check if a Number is Even or Odd\n",
    "Problem Statement:  Write a Python program that:\n",
    "1. \tTakes an integer input from the user.\n",
    "2. \tChecks whether the number is even or odd using an if-else statement.\n",
    "3. \tDisplays the result accordingly."
   ]
  },
  {
   "cell_type": "code",
   "execution_count": 1,
   "id": "366eeee4",
   "metadata": {},
   "outputs": [
    {
     "name": "stdout",
     "output_type": "stream",
     "text": [
      "Enter a number: 5\n",
      "5 is a odd number.\n"
     ]
    }
   ],
   "source": [
    "n = int(input(\"Enter a number: \"))\n",
    "\n",
    "if n % 2 == 0:\n",
    "    print(n, \"is an even number.\")\n",
    "else:\n",
    "    print(n, \"is a odd number.\")"
   ]
  },
  {
   "cell_type": "code",
   "execution_count": 2,
   "id": "42302272",
   "metadata": {},
   "outputs": [
    {
     "name": "stdout",
     "output_type": "stream",
     "text": [
      "Enter a number: 18\n",
      "18 is an even number.\n"
     ]
    }
   ],
   "source": [
    "n = int(input(\"Enter a number: \"))\n",
    "\n",
    "if n % 2 == 0:\n",
    "    print(n, \"is an even number.\")\n",
    "else:\n",
    "    print(n, \"is a odd number.\")"
   ]
  },
  {
   "cell_type": "code",
   "execution_count": null,
   "id": "7305d303",
   "metadata": {},
   "outputs": [],
   "source": []
  },
  {
   "cell_type": "code",
   "execution_count": null,
   "id": "85244d66",
   "metadata": {},
   "outputs": [],
   "source": [
    "Task 2: Sum of Integers from 1 to 50 Using a Loop\n",
    "\n",
    "Problem Statement: Write a Python program that:\n",
    "1.   Uses a for loop to iterate over numbers from 1 to 50.\n",
    "2.   Calculates the sum of all integers in this range.\n",
    "3.   Displays the final sum.\n"
   ]
  },
  {
   "cell_type": "code",
   "execution_count": 3,
   "id": "b9d9cd10",
   "metadata": {},
   "outputs": [
    {
     "name": "stdout",
     "output_type": "stream",
     "text": [
      "The sum of integers from 1 to 50 is: 1275\n"
     ]
    }
   ],
   "source": [
    "total_sum = 0\n",
    "\n",
    "for i in range (1,51):\n",
    "    total_sum += i\n",
    "    \n",
    "print(\"The sum of integers from 1 to 50 is:\", total_sum)"
   ]
  },
  {
   "cell_type": "code",
   "execution_count": null,
   "id": "aa05952b",
   "metadata": {},
   "outputs": [],
   "source": []
  },
  {
   "cell_type": "code",
   "execution_count": 4,
   "id": "b3cdb3fd",
   "metadata": {},
   "outputs": [
    {
     "name": "stdout",
     "output_type": "stream",
     "text": [
      "Enter a number: 50\n",
      "The sum of integers from 1 to 50 is: 1275\n"
     ]
    }
   ],
   "source": [
    "n = int(input(\"Enter a number: \"))\n",
    "total_sum = 0\n",
    "\n",
    "for i in range (1, n+1):\n",
    "    total_sum += i\n",
    "    \n",
    "print(\"The sum of integers from 1 to 50 is:\", total_sum)"
   ]
  },
  {
   "cell_type": "code",
   "execution_count": null,
   "id": "90396eca",
   "metadata": {},
   "outputs": [],
   "source": []
  }
 ],
 "metadata": {
  "kernelspec": {
   "display_name": "Python 3 (ipykernel)",
   "language": "python",
   "name": "python3"
  },
  "language_info": {
   "codemirror_mode": {
    "name": "ipython",
    "version": 3
   },
   "file_extension": ".py",
   "mimetype": "text/x-python",
   "name": "python",
   "nbconvert_exporter": "python",
   "pygments_lexer": "ipython3",
   "version": "3.11.3"
  }
 },
 "nbformat": 4,
 "nbformat_minor": 5
}
