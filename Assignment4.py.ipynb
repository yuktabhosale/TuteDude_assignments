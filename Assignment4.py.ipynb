{
 "cells": [
  {
   "cell_type": "code",
   "execution_count": null,
   "id": "dd694407",
   "metadata": {},
   "outputs": [],
   "source": [
    "Task 1: Read a File and Handle Errors"
   ]
  },
  {
   "cell_type": "code",
   "execution_count": null,
   "id": "cdb5e579",
   "metadata": {},
   "outputs": [],
   "source": [
    "Problem Statement:  Write a Python program that:\n",
    "1.   Opens and reads a text file named sample.txt.\n",
    "2.   Prints its content line by line.\n",
    "3.   Handles errors gracefully if the file does not exist."
   ]
  },
  {
   "cell_type": "code",
   "execution_count": null,
   "id": "54f43890",
   "metadata": {},
   "outputs": [],
   "source": []
  },
  {
   "cell_type": "code",
   "execution_count": 1,
   "id": "ae84cf17",
   "metadata": {},
   "outputs": [
    {
     "name": "stdout",
     "output_type": "stream",
     "text": [
      "This is the new txt file.\n",
      "for practicing python, and advance python.\n"
     ]
    }
   ],
   "source": [
    "file1 = open('my_first_file.txt', 'r')\n",
    "\n",
    "#directory = specify location of the file\n",
    "#mode = r,w,a,r+\n",
    "\n",
    "reading_file = file1.read()\n",
    "print(reading_file)\n",
    "file1.close()"
   ]
  },
  {
   "cell_type": "code",
   "execution_count": 6,
   "id": "69d6d2f2",
   "metadata": {},
   "outputs": [
    {
     "name": "stdout",
     "output_type": "stream",
     "text": [
      "There is an error\n",
      "The file 'sample.txt' was not found.\n"
     ]
    }
   ],
   "source": [
    "try:\n",
    "    file2 = open('sample_file', 'r')\n",
    "\n",
    "    reading_file = file2.read()\n",
    "    print(reading_file)\n",
    "\n",
    "    file2.close()\n",
    "\n",
    "except FileNotFoundError:\n",
    "    print(\"There is an error\")\n",
    "    \n",
    "finally:\n",
    "    print(\"The file 'sample.txt' was not found.\")\n"
   ]
  },
  {
   "cell_type": "code",
   "execution_count": null,
   "id": "a72b7345",
   "metadata": {},
   "outputs": [],
   "source": []
  },
  {
   "cell_type": "code",
   "execution_count": null,
   "id": "ee725272",
   "metadata": {},
   "outputs": [],
   "source": [
    "with open('my_first_file.txt', 'w') as file1:\n",
    "    #statements\n",
    "    # no need to close the file in this case."
   ]
  },
  {
   "cell_type": "code",
   "execution_count": null,
   "id": "343a0182",
   "metadata": {},
   "outputs": [],
   "source": []
  },
  {
   "cell_type": "code",
   "execution_count": null,
   "id": "dde6084d",
   "metadata": {},
   "outputs": [],
   "source": [
    "Task 2: Write and Append Data to a File"
   ]
  },
  {
   "cell_type": "code",
   "execution_count": null,
   "id": "d1b778cc",
   "metadata": {},
   "outputs": [],
   "source": [
    " Problem Statement: Write a Python program that:\n",
    "1.   Takes user input and writes it to a file named output.txt.\n",
    "2.   Appends additional data to the same file.\n",
    "3.   Reads and displays the final content of the file.\n"
   ]
  },
  {
   "cell_type": "code",
   "execution_count": null,
   "id": "cf661b5d",
   "metadata": {},
   "outputs": [],
   "source": []
  },
  {
   "cell_type": "code",
   "execution_count": 10,
   "id": "fe5193cc",
   "metadata": {},
   "outputs": [
    {
     "name": "stdout",
     "output_type": "stream",
     "text": [
      "Enter text to write to the file: Hello, Python\n",
      "Data successfully written to output.txt.\n",
      "\n",
      "Enter additional text to append: Learning file handelling in python\n",
      "Data successfully appended. \n",
      "\n",
      "Final content of output.txt: \n",
      "Hello, Python\n",
      "Learning file handelling in python\n",
      "\n"
     ]
    }
   ],
   "source": [
    "text_to_write = input(\"Enter text to write to the file: \")\n",
    "\n",
    "with open(\"output.txt\", \"w\") as file1:\n",
    "    file1.write(text_to_write + \"\\n\")\n",
    "print(\"Data successfully written to output.txt.\\n\")\n",
    "\n",
    "text_to_append = input(\"Enter additional text to append: \")\n",
    "\n",
    "with open(\"output.txt\", \"a\") as file1:\n",
    "    file1.write(text_to_append + \"\\n\")\n",
    "print(\"Data successfully appended. \\n\")\n",
    "\n",
    "print(\"Final content of output.txt: \")\n",
    "with open(\"output.txt\", \"r\") as file1:\n",
    "    print(file1.read())\n"
   ]
  },
  {
   "cell_type": "code",
   "execution_count": null,
   "id": "fb464e58",
   "metadata": {},
   "outputs": [],
   "source": []
  },
  {
   "cell_type": "code",
   "execution_count": 12,
   "id": "7b22ec44",
   "metadata": {},
   "outputs": [
    {
     "name": "stdout",
     "output_type": "stream",
     "text": [
      "Enter text to write to file: Hello, Python\n",
      "Date successfully written to output.\n",
      "\n",
      "Enter additional text to append: Learning file handeling with python\n",
      "Data successfully appended.\n",
      "\n",
      "Final content of input.txt: \n",
      "Hello, Python\n",
      "Learning file handeling with python\n",
      "\n"
     ]
    }
   ],
   "source": [
    "text_to_write = input(\"Enter text to write to file: \")\n",
    "\n",
    "file1 = open(\"input.txt\", \"w\")\n",
    "writting_files = file1.write(text_to_write + \"\\n\")\n",
    "print(\"Date successfully written to output.\\n\")\n",
    "file1.close()\n",
    "\n",
    "text_to_append = input(\"Enter additional text to append: \")\n",
    "\n",
    "file1 = open(\"input.txt\", \"a\")\n",
    "appending_files = file1.write(text_to_append + \"\\n\")\n",
    "print(\"Data successfully appended.\\n\")\n",
    "file1.close()\n",
    "\n",
    "print(\"Final content of input.txt: \")\n",
    "file1 = open(\"input.txt\", \"r\")\n",
    "reading_files = file1.read()\n",
    "print(reading_files)\n",
    "\n",
    "\n"
   ]
  },
  {
   "cell_type": "code",
   "execution_count": null,
   "id": "45a0d713",
   "metadata": {},
   "outputs": [],
   "source": []
  }
 ],
 "metadata": {
  "kernelspec": {
   "display_name": "Python 3 (ipykernel)",
   "language": "python",
   "name": "python3"
  },
  "language_info": {
   "codemirror_mode": {
    "name": "ipython",
    "version": 3
   },
   "file_extension": ".py",
   "mimetype": "text/x-python",
   "name": "python",
   "nbconvert_exporter": "python",
   "pygments_lexer": "ipython3",
   "version": "3.11.3"
  }
 },
 "nbformat": 4,
 "nbformat_minor": 5
}
